{
 "metadata": {
  "name": "",
  "signature": "sha256:2aba7dc29e1bda8e8ed671614261aaa806098de4a88d64cf29d0ed821c8e8748"
 },
 "nbformat": 3,
 "nbformat_minor": 0,
 "worksheets": [
  {
   "cells": [
    {
     "cell_type": "markdown",
     "metadata": {},
     "source": [
      "Mine Inspector\n",
      "==============\n",
      "\n",
      "Based on the [Variable Inspector Widget](http://nbviewer.ipython.org/github/ipython/ipython/blob/2.x/examples/Interactive%20Widgets/Variable%20Inspector.ipynb).\n",
      "\n",
      "Configurables\n",
      "-------------\n",
      "\n",
      "Set the options in the configurables and run the cell to download the items from the endpoint.\n",
      "\n",
      "The inspector updates after each cell is run, and dispatches to an appropriate _fill method based on the endpoint, therefore the call to get_endpoint_dictionary(endpoint, api_key, limit, offset) should remain in the same cell as the settings."
     ]
    },
    {
     "cell_type": "code",
     "collapsed": false,
     "input": [
      "fqdn     = 'Fully Qualified Domain Name'   # e.g., redmine.foo.com, DO NOT INCLUDE https://, which is assumed\n",
      "endpoint = 'issues|projects'               # issues or projects; add new _fill methods to\n",
      "                                           # EndPointInspectorWindow to handle additional endpoints\n",
      "api_key  = 'Redmine API Key'               # Your API Key goes here\n",
      "limit    = 25                              # 25-100, number of items to show\n",
      "offset   = 0                               # Paging mechanism; increase to retrieve items further in the collection\n",
      "\n",
      "# KEEP THE FOLLOWING CODE TOGETHER WITH THE SETTINGS ABOVE\n",
      "def get_endpoint_dictionary(fqdn, endpoint, api_key, limit=25, offset=0):\n",
      "    import json\n",
      "    import urllib\n",
      "    import urllib2\n",
      "    \n",
      "    url = 'https://{0}/{1}.json?{1}'.format(fqdn, endpoint, urllib.urlencode({'limit':limit, 'offset':offset}))\n",
      "    req = urllib2.Request(url, headers={\"X-Redmine-API-Key\" : api_key})\n",
      "    \n",
      "    return json.loads(urllib2.urlopen(req).read())\n",
      "\n",
      "# retrieve items from the endpoint and load into response\n",
      "response = get_endpoint_dictionary(fqdn, endpoint, api_key, limit, offset)\n",
      "\n",
      "print \"Response for endpoint '{0}' retrieved.\".format(endpoint)"
     ],
     "language": "python",
     "metadata": {},
     "outputs": []
    },
    {
     "cell_type": "markdown",
     "metadata": {},
     "source": [
      "Widgets\n",
      "-------\n",
      "Run the Widgets code (except for the call to inspector.close() at the end).  You can click a button on the popup window to pop it in so you can continue to work on code, yet still see the results.  The results will automatically update when you access a different endpoint."
     ]
    },
    {
     "cell_type": "code",
     "collapsed": false,
     "input": [
      "from IPython.html import widgets # Loads the Widget framework.\n",
      "\n",
      "class EndpointInspectorWindow(object):\n",
      "    instance = None\n",
      "    \n",
      "    def __init__(self, ipython):\n",
      "        \"\"\"Public constructor.\"\"\"\n",
      "        if EndpointInspectorWindow.instance is not None:\n",
      "            raise Exception(\"\"\"Only one instance of the Variable Inspector can exist at a \n",
      "                time.  Call close() on the active instance before creating a new instance.\n",
      "                If you have lost the handle to the active instance, you can re-obtain it\n",
      "                via `VariableInspectorWindow.instance`.\"\"\")\n",
      "        \n",
      "        EndpointInspectorWindow.instance = self\n",
      "        self.closed = False\n",
      "        \n",
      "        self._popout = widgets.PopupWidget()\n",
      "        self._popout.description = \"Issues Inspector\"\n",
      "        self._popout.button_text = self._popout.description\n",
      "\n",
      "        self._modal_body = widgets.ContainerWidget()\n",
      "\n",
      "        self._modal_body_label = widgets.HTMLWidget(value = 'Not hooked')\n",
      "        self._modal_body.children = [self._modal_body_label]\n",
      "\n",
      "        self._popout.children = [\n",
      "            self._modal_body, \n",
      "        ]\n",
      "        \n",
      "        self._ipython = ipython\n",
      "        self._ipython.events.register('post_run_cell', self._fill)\n",
      "\n",
      "    def close(self):\n",
      "        \"\"\"Close and remove hooks.\"\"\"\n",
      "        if not self.closed:\n",
      "            self._ipython.events.reset_all()\n",
      "            self._popout.close()\n",
      "            self.closed = True\n",
      "            EndpointInspectorWindow.instance = None\n",
      "\n",
      "    def _fill(self):\n",
      "        \"\"\"Fill self with variable information.\"\"\"\n",
      "        if (endpoint == 'projects'):\n",
      "            self._fill_projects()\n",
      "        elif (endpoint == 'issues'):\n",
      "            self._fill_issues()\n",
      "    \n",
      "    def _fill_projects(self):    \n",
      "        self._modal_body_label.value = '<table class=\"table table-bordered table-striped\"><tr><th>Description</th><th>Name</th><th>Status</th></tr><tr><td>' + \\\n",
      "            '</td></tr><tr><td>'.join(['{0}</td><td>{1}</td><td>{2}'.format(item['description'], item['name'], item['status']) for item in response[endpoint]]) + \\\n",
      "            '</td></tr></table>'\n",
      "   \n",
      "    def _fill_issues(self):\n",
      "        self._modal_body_label.value = '<table class=\"table table-bordered table-striped\"><tr><th>Subject</th><th>Author</th><th>Status</th></tr><tr><td>' + \\\n",
      "            '</td></tr><tr><td>'.join(['{0}</td><td>{1}</td><td>{2}'.format(issue['subject'], issue['author']['name'], issue['status']['name']) for issue in response['issues']]) + \\\n",
      "            '</td></tr></table>'\n",
      "\n",
      "    def _ipython_display_(self):\n",
      "        \"\"\"Called when display() or pyout is used to display the Variable \n",
      "        Inspector.\"\"\"\n",
      "        self._popout._ipython_display_()\n",
      "        self._popout.add_class('vbox')\n",
      "        self._modal_body.add_class('box-flex1')"
     ],
     "language": "python",
     "metadata": {},
     "outputs": []
    },
    {
     "cell_type": "code",
     "collapsed": false,
     "input": [
      "inspector = EndpointInspectorWindow(get_ipython())\n",
      "inspector"
     ],
     "language": "python",
     "metadata": {},
     "outputs": []
    },
    {
     "cell_type": "markdown",
     "metadata": {},
     "source": [
      "Run inspector.close() if you need to reset the state of the inspector."
     ]
    },
    {
     "cell_type": "code",
     "collapsed": false,
     "input": [
      "inspector.close()"
     ],
     "language": "python",
     "metadata": {},
     "outputs": []
    }
   ],
   "metadata": {}
  }
 ]
}